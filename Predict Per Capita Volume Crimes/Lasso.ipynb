{
  "nbformat": 4,
  "nbformat_minor": 0,
  "metadata": {
    "colab": {
      "provenance": []
    },
    "kernelspec": {
      "name": "python3",
      "display_name": "Python 3"
    },
    "language_info": {
      "name": "python"
    }
  },
  "cells": [
    {
      "cell_type": "code",
      "source": [
        "import numpy as np\n",
        "import matplotlib.pyplot as plt\n",
        "import pandas as pd\n",
        "import numpy as np\n",
        "import random\n",
        "import matplotlib.pyplot as plt\n",
        "from sklearn.linear_model import LinearRegression, Ridge\n",
        "from sklearn.preprocessing import PolynomialFeatures\n",
        "from sklearn.pipeline import make_pipeline\n",
        "from sklearn.model_selection import train_test_split\n",
        "from sklearn.metrics import mean_squared_error"
      ],
      "metadata": {
        "id": "995fUYn78qst"
      },
      "execution_count": 2,
      "outputs": []
    },
    {
      "cell_type": "code",
      "execution_count": 3,
      "metadata": {
        "id": "v24doUAXK-D4"
      },
      "outputs": [],
      "source": [
        "import pandas as pd\n",
        "import numpy as np\n",
        "from sklearn.model_selection import train_test_split\n",
        "np.random.seed(100)\n",
        "# Load the data\n",
        "data = pd.read_csv('crime-train.txt', sep='\\t')\n",
        "test_data = pd.read_csv('crime-test.txt', sep='\\t')\n",
        "\n",
        "X_ = data[[c for c in data.columns if c!= 'ViolentCrimesPerPop']].values\n",
        "y_ = data['ViolentCrimesPerPop'].values\n",
        "\n",
        "X_test = test_data[[c for c in data.columns if c!= 'ViolentCrimesPerPop']].values\n",
        "y_test = test_data['ViolentCrimesPerPop'].values"
      ]
    },
    {
      "cell_type": "code",
      "source": [
        "from pandas.core.frame import Scalar\n",
        "from sklearn.preprocessing import StandardScaler\n",
        "X_train, X_val, y_train, y_val = train_test_split(X_, y_, test_size=0.2)# TODO: Split the validation set as 20% of the train\n",
        "scaler = StandardScaler() #subtracts of the mean, and scales the features\n",
        "scaler.fit(X_train)\n",
        "scaler.fit(X_val)# TODO: fit the scaler on X_train\n",
        "\n",
        "X_train = scaler.transform(X_train)\n",
        "X_val = scaler.transform(X_val)"
      ],
      "metadata": {
        "id": "QO6HSGcCLhek"
      },
      "execution_count": 4,
      "outputs": []
    },
    {
      "cell_type": "code",
      "source": [
        "from sklearn.metrics import mean_squared_error\n",
        "from sklearn.linear_model import Lasso\n",
        "import matplotlib.pyplot as plt\n",
        "\n",
        "lambdas = [5/2**i for i in range(10,20)] #[5, 2.5, 1.25, ...]\n",
        "\n",
        "val_errors = []\n",
        "size_support = []\n",
        "\n",
        "for i, lam in enumerate(lambdas):\n",
        "        model = Lasso(alpha=lam, max_iter=10000)\n",
        "        model.fit(X_train, y_train)\n",
        "        val_errors.append(mean_squared_error(y_val, model.predict(X_val)))\n",
        "        size_support.append(np.count_nonzero(model.coef_))\n",
        "min_lam = lambdas[np.argmin(val_errors)]\n",
        "best_model = Lasso(alpha=min_lam, max_iter=50000)\n",
        "best_model.fit(X_train, y_train)\n",
        "\n",
        "plt.plot(lambdas, val_errors)\n",
        "plt.xscale('log')\n",
        "plt.yscale('log')\n",
        "plt.show()\n",
        "\n",
        "plt.plot(lambdas, size_support)\n",
        "plt.xscale('log')\n",
        "plt.show()\n",
        "\n",
        "X_test = scaler.transform(X_test)#TODO: transform X_test using the scaler\n",
        "y_test_predict = best_model.predict(X_test)\n",
        "test_error = mean_squared_error(y_test, y_test_predict)\n",
        "print('mean_square_error on test set', test_error,\n",
        "      'relative mean_square_error', test_error/np.var(y_test))"
      ],
      "metadata": {
        "colab": {
          "base_uri": "https://localhost:8080/",
          "height": 538
        },
        "id": "KJj6i39dL1SR",
        "outputId": "d0cee5f9-f05f-47a1-9fad-e8bab17cfb03"
      },
      "execution_count": 5,
      "outputs": [
        {
          "output_type": "display_data",
          "data": {
            "text/plain": [
              "<Figure size 432x288 with 1 Axes>"
            ],
            "image/png": "[encoded data removed]"
          },
          "metadata": {
            "needs_background": "light"
          }
        },
        {
          "output_type": "display_data",
          "data": {
            "text/plain": [
              "<Figure size 432x288 with 1 Axes>"
            ],
            "image/png": "[encoded data removed]"
          },
          "metadata": {
            "needs_background": "light"
          }
        },
        {
          "output_type": "stream",
          "name": "stdout",
          "text": [
            "mean_square_error on test set 0.02169399992754103 relative mean_square_error 0.36966338041434665\n"
          ]
        }
      ]
    },
    {
      "cell_type": "code",
      "source": [
        "arr = []\n",
        "''''\n",
        "#coefficients of all features\n",
        "for feature, val in zip(data.columns[1:], best_model.coef_):\n",
        "    if val != 0:\n",
        "      print(feature, val)\n",
        "'''\n",
        "#coefficients of variables we wannt to keep after LASSO analysis (non zero coefficients)\n",
        "for feature, val in zip(data.columns[1:], best_model.coef_):\n",
        "    if val != 0:\n",
        "      #print(feature, val)\n",
        "      arr.append(feature)\n",
        "\n",
        "print(arr) #all useful variables only"
      ],
      "metadata": {
        "colab": {
          "base_uri": "https://localhost:8080/"
        },
        "id": "ZigJq0CIMsVK",
        "outputId": "7f01ed4a-57be-4636-8c93-d86bfe144ad6"
      },
      "execution_count": 7,
      "outputs": [
        {
          "output_type": "stream",
          "name": "stdout",
          "text": [
            "['population', 'householdsize', 'agePct12t29', 'agePct65up', 'pctUrban', 'pctWFarmSelf', 'pctWInvInc', 'pctWSocSec', 'pctWRetire', 'blackPerCap', 'indianPerCap', 'AsianPerCap', 'HispPerCap', 'PctPopUnderPov', 'PctLess9thGrade', 'PctEmploy', 'PctEmplManu', 'PctEmplProfServ', 'MalePctDivorce', 'MalePctNevMarr', 'FemalePctDiv', 'PersPerFam', 'PctKids2Par', 'PctWorkMom', 'NumIlleg', 'PctIlleg', 'NumImmig', 'PctImmigRecent', 'PctNotSpeakEnglWell', 'PersPerOccupHous', 'PctPersOwnOccup', 'PctPersDenseHous', 'MedNumBR', 'HousVacant', 'PctHousOccup', 'PctVacantBoarded', 'PctVacMore6Mos', 'MedYrHousBuilt', 'PctWOFullPlumb', 'OwnOccHiQuart', 'RentLowQ', 'MedRent', 'MedRentPctHousInc', 'MedOwnCostPctInc', 'MedOwnCostPctIncNoMtg', 'NumStreet', 'PctForeignBorn', 'PopDens', 'PctUsePubTrans', 'LemasPctOfficDrugUn']\n"
          ]
        }
      ]
    },
    {
      "cell_type": "code",
      "source": [
        "#################\n",
        "#create new data frame and run regression with optimal polynomial degree\n",
        "#################"
      ],
      "metadata": {
        "id": "vK2UnCC3O9Ym"
      },
      "execution_count": null,
      "outputs": []
    },
    {
      "cell_type": "code",
      "source": [
        "new_data = zip(data[arr],data['ViolentCrimesPerPop']) #data with only important variables\n",
        "new_test_data = zip(test_data[arr], test_data['ViolentCrimesPerPop'])"
      ],
      "metadata": {
        "id": "QzxdudOGPFAe"
      },
      "execution_count": 8,
      "outputs": []
    },
    {
      "cell_type": "code",
      "source": [
        "#convert normal df to pandas df\n",
        "new_data = pd.DataFrame(new_data)\n",
        "new_test_data = pd.DataFrame(new_test_data)"
      ],
      "metadata": {
        "id": "EeHaRCf20E1E"
      },
      "execution_count": 9,
      "outputs": []
    },
    {
      "cell_type": "code",
      "source": [
        "#train test split\n",
        "X_ = data[[c for c in data.columns if c!= 'ViolentCrimesPerPop']].values\n",
        "y_ = data['ViolentCrimesPerPop'].values\n",
        "\n",
        "X_test = test_data[[c for c in data.columns if c!= 'ViolentCrimesPerPop']].values\n",
        "y_test = test_data['ViolentCrimesPerPop'].values"
      ],
      "metadata": {
        "id": "-AbzZFZnx18T"
      },
      "execution_count": 10,
      "outputs": []
    },
    {
      "cell_type": "code",
      "source": [
        "#splitting train into train and validation data \n",
        "from pandas.core.frame import Scalar\n",
        "from sklearn.preprocessing import StandardScaler\n",
        "\n",
        "X_train, X_val, y_train, y_val = train_test_split(X_, y_, test_size=0.2)\n",
        "scaler = StandardScaler() #subtracts of the mean, and scales the features\n",
        "scaler.fit(X_train)\n",
        "scaler.fit(X_val)\n",
        "\n",
        "X_train = scaler.transform(X_train)\n",
        "X_val = scaler.transform(X_val)"
      ],
      "metadata": {
        "id": "n_VH9CP70Xkp"
      },
      "execution_count": 15,
      "outputs": []
    },
    {
      "cell_type": "code",
      "source": [
        "degrees = list(range(1,30)) #getting a list of degrees\n",
        "print(degrees)"
      ],
      "metadata": {
        "colab": {
          "base_uri": "https://localhost:8080/"
        },
        "id": "Bw9fqZ2U6c9v",
        "outputId": "76cb1e22-32ea-42c5-f26d-3ca1637acd6f"
      },
      "execution_count": 19,
      "outputs": [
        {
          "output_type": "stream",
          "name": "stdout",
          "text": [
            "[1, 2, 3, 4, 5, 6, 7, 8, 9, 10, 11, 12, 13, 14, 15, 16, 17, 18, 19, 20, 21, 22, 23, 24, 25, 26, 27, 28, 29]\n"
          ]
        }
      ]
    },
    {
      "cell_type": "code",
      "source": [
        "mse_dict = []\n",
        "best_degree = 999999999999999999\n",
        "best_mse = 999999999999999999999\n",
        "for degree in degrees:\n",
        "  poly = PolynomialFeatures(degree=degree)\n",
        "  x_train_poly = poly.fit_transform(X_train)\n",
        "  #y_train_poly = poly.transform(y_train.reshape(-1, 1))\n",
        "  model = LinearRegression()\n",
        "  model.fit(x_train_poly, y_train)\n",
        "  y_pred = model.predict(x_train_poly)\n",
        "  mse = mean_squared_error(y_train, y_pred)\n",
        "  print(degree,mse)\n",
        "  if mse < best_mse:\n",
        "    best_mse = mse\n",
        "    best_degree = degree\n",
        "\n",
        "print(best_degree)"
      ],
      "metadata": {
        "colab": {
          "base_uri": "https://localhost:8080/",
          "height": 433
        },
        "id": "Ra0VZjKO8z5f",
        "outputId": "d91827e3-0cb0-4ff5-ca4f-63f41293c669"
      },
      "execution_count": 20,
      "outputs": [
        {
          "output_type": "stream",
          "name": "stdout",
          "text": [
            "1 0.015914556648127326\n",
            "2 7.981842350589188e-30\n"
          ]
        },
        {
          "output_type": "error",
          "ename": "KeyboardInterrupt",
          "evalue": "ignored",
          "traceback": [
            "\u001b[0;31m---------------------------------------------------------------------------\u001b[0m",
            "\u001b[0;31mKeyboardInterrupt\u001b[0m                         Traceback (most recent call last)",
            "\u001b[0;32m<ipython-input-20-d20fd09507ee>\u001b[0m in \u001b[0;36m<module>\u001b[0;34m\u001b[0m\n\u001b[1;32m      7\u001b[0m   \u001b[0;31m#y_train_poly = poly.transform(y_train.reshape(-1, 1))\u001b[0m\u001b[0;34m\u001b[0m\u001b[0;34m\u001b[0m\u001b[0;34m\u001b[0m\u001b[0m\n\u001b[1;32m      8\u001b[0m   \u001b[0mmodel\u001b[0m \u001b[0;34m=\u001b[0m \u001b[0mLinearRegression\u001b[0m\u001b[0;34m(\u001b[0m\u001b[0;34m)\u001b[0m\u001b[0;34m\u001b[0m\u001b[0;34m\u001b[0m\u001b[0m\n\u001b[0;32m----> 9\u001b[0;31m   \u001b[0mmodel\u001b[0m\u001b[0;34m.\u001b[0m\u001b[0mfit\u001b[0m\u001b[0;34m(\u001b[0m\u001b[0mx_train_poly\u001b[0m\u001b[0;34m,\u001b[0m \u001b[0my_train\u001b[0m\u001b[0;34m)\u001b[0m\u001b[0;34m\u001b[0m\u001b[0;34m\u001b[0m\u001b[0m\n\u001b[0m\u001b[1;32m     10\u001b[0m   \u001b[0my_pred\u001b[0m \u001b[0;34m=\u001b[0m \u001b[0mmodel\u001b[0m\u001b[0;34m.\u001b[0m\u001b[0mpredict\u001b[0m\u001b[0;34m(\u001b[0m\u001b[0mx_train_poly\u001b[0m\u001b[0;34m)\u001b[0m\u001b[0;34m\u001b[0m\u001b[0;34m\u001b[0m\u001b[0m\n\u001b[1;32m     11\u001b[0m   \u001b[0mmse\u001b[0m \u001b[0;34m=\u001b[0m \u001b[0mmean_squared_error\u001b[0m\u001b[0;34m(\u001b[0m\u001b[0my_train\u001b[0m\u001b[0;34m,\u001b[0m \u001b[0my_pred\u001b[0m\u001b[0;34m)\u001b[0m\u001b[0;34m\u001b[0m\u001b[0;34m\u001b[0m\u001b[0m\n",
            "\u001b[0;32m/usr/local/lib/python3.8/dist-packages/sklearn/linear_model/_base.py\u001b[0m in \u001b[0;36mfit\u001b[0;34m(self, X, y, sample_weight)\u001b[0m\n\u001b[1;32m    716\u001b[0m                 \u001b[0mself\u001b[0m\u001b[0;34m.\u001b[0m\u001b[0m_residues\u001b[0m \u001b[0;34m=\u001b[0m \u001b[0mnp\u001b[0m\u001b[0;34m.\u001b[0m\u001b[0mvstack\u001b[0m\u001b[0;34m(\u001b[0m\u001b[0;34m[\u001b[0m\u001b[0mout\u001b[0m\u001b[0;34m[\u001b[0m\u001b[0;36m3\u001b[0m\u001b[0;34m]\u001b[0m \u001b[0;32mfor\u001b[0m \u001b[0mout\u001b[0m \u001b[0;32min\u001b[0m \u001b[0mouts\u001b[0m\u001b[0;34m]\u001b[0m\u001b[0;34m)\u001b[0m\u001b[0;34m\u001b[0m\u001b[0;34m\u001b[0m\u001b[0m\n\u001b[1;32m    717\u001b[0m         \u001b[0;32melse\u001b[0m\u001b[0;34m:\u001b[0m\u001b[0;34m\u001b[0m\u001b[0;34m\u001b[0m\u001b[0m\n\u001b[0;32m--> 718\u001b[0;31m             \u001b[0mself\u001b[0m\u001b[0;34m.\u001b[0m\u001b[0mcoef_\u001b[0m\u001b[0;34m,\u001b[0m \u001b[0mself\u001b[0m\u001b[0;34m.\u001b[0m\u001b[0m_residues\u001b[0m\u001b[0;34m,\u001b[0m \u001b[0mself\u001b[0m\u001b[0;34m.\u001b[0m\u001b[0mrank_\u001b[0m\u001b[0;34m,\u001b[0m \u001b[0mself\u001b[0m\u001b[0;34m.\u001b[0m\u001b[0msingular_\u001b[0m \u001b[0;34m=\u001b[0m \u001b[0mlinalg\u001b[0m\u001b[0;34m.\u001b[0m\u001b[0mlstsq\u001b[0m\u001b[0;34m(\u001b[0m\u001b[0mX\u001b[0m\u001b[0;34m,\u001b[0m \u001b[0my\u001b[0m\u001b[0;34m)\u001b[0m\u001b[0;34m\u001b[0m\u001b[0;34m\u001b[0m\u001b[0m\n\u001b[0m\u001b[1;32m    719\u001b[0m             \u001b[0mself\u001b[0m\u001b[0;34m.\u001b[0m\u001b[0mcoef_\u001b[0m \u001b[0;34m=\u001b[0m \u001b[0mself\u001b[0m\u001b[0;34m.\u001b[0m\u001b[0mcoef_\u001b[0m\u001b[0;34m.\u001b[0m\u001b[0mT\u001b[0m\u001b[0;34m\u001b[0m\u001b[0;34m\u001b[0m\u001b[0m\n\u001b[1;32m    720\u001b[0m \u001b[0;34m\u001b[0m\u001b[0m\n",
            "\u001b[0;32m/usr/local/lib/python3.8/dist-packages/scipy/linalg/basic.py\u001b[0m in \u001b[0;36mlstsq\u001b[0;34m(a, b, cond, overwrite_a, overwrite_b, check_finite, lapack_driver)\u001b[0m\n\u001b[1;32m   1202\u001b[0m             \u001b[0;32mif\u001b[0m \u001b[0mreal_data\u001b[0m\u001b[0;34m:\u001b[0m\u001b[0;34m\u001b[0m\u001b[0;34m\u001b[0m\u001b[0m\n\u001b[1;32m   1203\u001b[0m                 \u001b[0mlwork\u001b[0m\u001b[0;34m,\u001b[0m \u001b[0miwork\u001b[0m \u001b[0;34m=\u001b[0m \u001b[0m_compute_lwork\u001b[0m\u001b[0;34m(\u001b[0m\u001b[0mlapack_lwork\u001b[0m\u001b[0;34m,\u001b[0m \u001b[0mm\u001b[0m\u001b[0;34m,\u001b[0m \u001b[0mn\u001b[0m\u001b[0;34m,\u001b[0m \u001b[0mnrhs\u001b[0m\u001b[0;34m,\u001b[0m \u001b[0mcond\u001b[0m\u001b[0;34m)\u001b[0m\u001b[0;34m\u001b[0m\u001b[0;34m\u001b[0m\u001b[0m\n\u001b[0;32m-> 1204\u001b[0;31m                 x, s, rank, info = lapack_func(a1, b1, lwork,\n\u001b[0m\u001b[1;32m   1205\u001b[0m                                                iwork, cond, False, False)\n\u001b[1;32m   1206\u001b[0m             \u001b[0;32melse\u001b[0m\u001b[0;34m:\u001b[0m  \u001b[0;31m# complex data\u001b[0m\u001b[0;34m\u001b[0m\u001b[0;34m\u001b[0m\u001b[0m\n",
            "\u001b[0;31mKeyboardInterrupt\u001b[0m: "
          ]
        }
      ]
    },
    {
      "cell_type": "code",
      "source": [],
      "metadata": {
        "id": "C557LNEnC7dv"
      },
      "execution_count": null,
      "outputs": []
    }
  ]
}